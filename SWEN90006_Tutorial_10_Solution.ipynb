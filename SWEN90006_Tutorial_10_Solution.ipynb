{
  "cells": [
    {
      "cell_type": "markdown",
      "id": "d8b28f7a",
      "metadata": {
        "id": "d8b28f7a"
      },
      "source": [
        "# SWEN90006 Tutorial 10 Solution"
      ]
    },
    {
      "cell_type": "markdown",
      "id": "609dd600",
      "metadata": {
        "id": "609dd600"
      },
      "source": [
        "## Your Tasks\n",
        "\n",
        "\n",
        "Figure C.3 shows an implementation of a program that\n",
        "returns the minimum of two integers. Draw the complete symbolic\n",
        "execution tree for this program. In your execution tree, use the\n",
        "variables `X_0` and `Y_0` to represent the initial symbolic values of\n",
        "`x` and `y` respectively.\n",
        "\n",
        "At the return statement at line 10, assume the existence of a symbolic\n",
        "variable `RET`, to which the return value is assigned when a return\n",
        "statement is executed.\n",
        "\n",
        "```c\n",
        "       1.  int min(int x, int y)\n",
        "       2.  {\n",
        "       3.      int minimum = 0;\n",
        "       4.      if (x > y) {\n",
        "       5.          minimum = y;\n",
        "       6.      }\n",
        "       7.      else if (y > x) {\n",
        "       8.          minimum = x;\n",
        "       9.      }\n",
        "      10.      return minimum;\n",
        "      11.   }\n",
        "```\n",
        "\n",
        "<p style=\"text-align: center;\">Figure C.3: An implementation of the Min function</p>\n",
        "\n",
        "**Solution**:\n",
        "\n",
        "The execution tree for this program is shown below. The variables `x`\n",
        "and `y` never change, so the constraints `x = X_0` and `y = Y_0` have\n",
        "been omitted, but implicitly occur in every node of the graph.\n",
        "\n",
        "![Execution Tree](figs/min-execution-tree.png)\n",
        "\n",
        "Note that in the third branch, which occurs when the branches in both\n",
        "'if' statements are false, the constraint that `X_0 <= Y_0, Y_0 <= X_0`\n",
        "simplifies to just `X_0 = Y_0`.\n",
        "\n",
        "### Question 2\n",
        "Does the program in Figure C.3 ensure the precondition that the number\n",
        "returned is always the minimum; i.e. that `RET` is the minimum number of\n",
        "`X_0` and `Y_0`?\n",
        "\n",
        "**Solution:**\n",
        "\n",
        "No, because when `x = y`, the third branch will be executed, which does\n",
        "not change the value of `minimum`. Therefore, the return value will be\n",
        "0, which is only the correct answer if `x` and `y` are both 0, but not\n",
        "if `x` and `y` are non-zero.\n",
        "\n",
        "This demonstrates a fault in the program that is perhaps not immediately\n",
        "obvious."
      ]
    },
    {
      "cell_type": "code",
      "execution_count": null,
      "id": "e826544b",
      "metadata": {
        "id": "e826544b",
        "vscode": {
          "languageId": "java"
        }
      },
      "outputs": [],
      "source": []
    }
  ],
  "metadata": {
    "colab": {
      "include_colab_link": true,
      "name": "SWEN90006_Tutorial_06.ipynb",
      "provenance": []
    },
    "kernelspec": {
      "display_name": "Java",
      "language": "java",
      "name": "java"
    },
    "language_info": {
      "codemirror_mode": "java",
      "file_extension": ".jshell",
      "mimetype": "text/x-java-source",
      "name": "Java",
      "pygments_lexer": "java",
      "version": "15.0.2+7-27"
    }
  },
  "nbformat": 4,
  "nbformat_minor": 5
}
