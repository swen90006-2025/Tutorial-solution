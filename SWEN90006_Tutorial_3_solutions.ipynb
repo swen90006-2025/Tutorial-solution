{
  "cells": [
    {
      "cell_type": "markdown",
      "id": "6270b709",
      "metadata": {},
      "source": [
        "# SWEN90006 Tutorial 4 solutions"
      ]
    },
    {
      "cell_type": "markdown",
      "id": "c462ee9a",
      "metadata": {},
      "source": [
        "### Task 1\n",
        "\n",
        "Please see the attached control flow graph for your reference. \n",
        "<img src=\"figs/CFG1_tut3.png\" width=\"30%\">\n",
        "\n",
        "\n",
        "### Task 2\n",
        "\n",
        "| Branch          | Branch 1 | Branch 1  | Branch 2 | Branch 2 | Branch 3 | Branch 3 | Branch 4 | Branch 4 |\n",
        "|-----------------|----------|-----------|----------|----------|----------|----------|----------|----------|\n",
        "| Test objectives | True     | False     | True     | False    | True     | False    | True     | False    |\n",
        "| 00000111        | ☑️        |           |   ☑️       |          |          |    ☑️      |     ☑️     |          |\n",
        "| 10101010        |          |     ☑️      |          |     ☑️     |    ☑️     |          |     ☑️    |          |\n",
        "| 11110000        |          |     ☑️      |          |     ☑️     |          |    ☑️     |     ☑️    |          |\n",
        " \n",
        "$coverage\\_score = \\frac{objectives\\_achieved}{total\\_objectives} = 7/8 = 0.875 $\n",
        "\n",
        "If we want to achieve `branch coverage`, we need add a new test case to disable the \"fourth\" transformation, for example: \n",
        "- `binary = \"01000000\"`\n",
        "\n",
        "### Task 3\n",
        "\n",
        "Design a set of test cases that achieves `condition coverage`. \n",
        "\n",
        "This function is specially designed in a way that achieving `condition coverage` is equivalent to having a set of test cases where each bit should be set to 1 at least once, and 0 at least once. \n",
        "\n",
        "So, an example set of test cases could be:\n",
        "- `binary = \"00000000\"`\n",
        "- `binary = \"11111111\"`\n",
        "\n",
        "### Task 4\n",
        "\n",
        "By definition, a combination of branch coverage and condition coverage achieves `decision/condition coverage`.\n",
        "\n",
        "We can combine the test cases from task1 and task2 to achieve `decision/condition coverage`. However, if you look closely at the set of test cases from task 1, they achieve `decision/condition coverage` as well. \n",
        "\n",
        "Example set of test cases:\n",
        "- `binary = \"00000111\"`\n",
        "- `binary = \"10101010\"`\n",
        "- `binary = \"11110000\"`\n",
        "- `binary = \"01000000\"`"
      ]
    }
  ],
  "metadata": {
    "colab": {
      "include_colab_link": true,
      "name": "SWEN90006_Tutorial_04_solutions.ipynb",
      "provenance": []
    },
    "kernelspec": {
      "display_name": "Java",
      "language": "java",
      "name": "java"
    },
    "language_info": {
      "codemirror_mode": "java",
      "file_extension": ".jshell",
      "mimetype": "text/x-java-source",
      "name": "Java",
      "pygments_lexer": "java",
      "version": "10.0.2+13"
    }
  },
  "nbformat": 4,
  "nbformat_minor": 5
}
