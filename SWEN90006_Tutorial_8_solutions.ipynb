{
  "cells": [
    {
      "cell_type": "markdown",
      "id": "d8b28f7a",
      "metadata": {
        "id": "d8b28f7a"
      },
      "source": [
        "# SWEN90006 Tutorial 8 Solution"
      ]
    },
    {
      "cell_type": "markdown",
      "id": "ea6c7280",
      "metadata": {},
      "source": [
        "## Generation-based Fuzzing\n",
        "\n",
        "### Question 2\n",
        "The input model can be found in file `boom_pit.xml`, that is already copied into the Docker image, but a small modification is required to use it. At line 33, you should comment out this line, and compare it with your input model. \n",
        "\n",
        "```xml\n",
        "<Data fileName=\"in/*\"/>\n",
        "```\n",
        "\n",
        "### All other questions are experiment-based questions, no solution"
      ]
    }
  ],
  "metadata": {
    "colab": {
      "include_colab_link": true,
      "name": "SWEN90006_Tutorial_06.ipynb",
      "provenance": []
    },
    "kernelspec": {
      "display_name": "Java",
      "language": "java",
      "name": "java"
    },
    "language_info": {
      "codemirror_mode": "java",
      "file_extension": ".jshell",
      "mimetype": "text/x-java-source",
      "name": "Java",
      "pygments_lexer": "java",
      "version": "10.0.2+13"
    }
  },
  "nbformat": 4,
  "nbformat_minor": 5
}
